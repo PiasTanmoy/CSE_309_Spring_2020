{
  "nbformat": 4,
  "nbformat_minor": 0,
  "metadata": {
    "colab": {
      "name": "Lab Coding test play ground.ipynb",
      "provenance": [],
      "collapsed_sections": [],
      "authorship_tag": "ABX9TyOOhHWD30TNM+pYmhCMC08L",
      "include_colab_link": true
    },
    "kernelspec": {
      "name": "python3",
      "display_name": "Python 3"
    }
  },
  "cells": [
    {
      "cell_type": "markdown",
      "metadata": {
        "id": "view-in-github",
        "colab_type": "text"
      },
      "source": [
        "<a href=\"https://colab.research.google.com/github/PiasTanmoy/CSE_309_Spring_2020/blob/master/Lab_Coding_test_play_ground.ipynb\" target=\"_parent\"><img src=\"https://colab.research.google.com/assets/colab-badge.svg\" alt=\"Open In Colab\"/></a>"
      ]
    },
    {
      "cell_type": "code",
      "metadata": {
        "id": "y3iSY4FmIC-l",
        "colab_type": "code",
        "colab": {
          "base_uri": "https://localhost:8080/",
          "height": 87
        },
        "outputId": "67c40f51-9808-40f4-ad06-afe321ae627d"
      },
      "source": [
        "r = int(input(\"r: \"))\n",
        "h = int(input(\"h: \"))\n",
        "PIE = 3.1416\n",
        "sa = 2*PIE*r*r + 2*PIE*r*h \n",
        "v = PIE*r*r*h \n",
        "print(\"SA: \", sa)\n",
        "print(\"V:\", v)"
      ],
      "execution_count": null,
      "outputs": [
        {
          "output_type": "stream",
          "text": [
            "r: 10\n",
            "h: 5\n",
            "SA:  942.48\n",
            "V: 1570.8000000000002\n"
          ],
          "name": "stdout"
        }
      ]
    }
  ]
}